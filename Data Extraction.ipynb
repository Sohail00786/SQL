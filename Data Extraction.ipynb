{
 "cells": [
  {
   "cell_type": "code",
   "execution_count": 1,
   "id": "12207088",
   "metadata": {},
   "outputs": [],
   "source": [
    "from lib2to3.pgen2 import driver\n",
    "from selenium import webdriver\n",
    "import pandas as pd\n",
    "from openpyxl.workbook import workbook\n",
    "import warnings\n",
    "warnings.filterwarnings(\"ignore\", category = DeprecationWarning)\n",
    "warnings.filterwarnings(\"ignore\", category = FutureWarning)"
   ]
  },
  {
   "cell_type": "code",
   "execution_count": 2,
   "id": "19bcc33a",
   "metadata": {},
   "outputs": [],
   "source": [
    "driver = webdriver.Chrome()\n",
    "driver.get('https://en.wikipedia.org/wiki/List_of_countries_by_number_of_military_and_paramilitary_personnel')\n",
    "driver.maximize_window()"
   ]
  },
  {
   "cell_type": "code",
   "execution_count": 3,
   "id": "1b4f695a",
   "metadata": {},
   "outputs": [],
   "source": [
    "\n",
    "\n",
    "countries = driver.find_elements_by_xpath('//table/tbody/tr/td[2]/a')\n",
    "\n",
    "activemilitary = driver.find_elements_by_xpath('//table/tbody/tr/td[3]')\n",
    " \n",
    "reservemilitary = driver.find_elements_by_xpath('//table/tbody/tr/td[4]')\n",
    "\n",
    "paramilitary = driver.find_elements_by_xpath('//table/tbody/tr/td[5]')\n",
    "\n",
    "totalsoldiers = driver.find_elements_by_xpath('//table/tbody/tr/td[6]')\n",
    "\n",
    "percapitatotalthousand = driver.find_elements_by_xpath('//table/tbody/tr/td[7]')\n",
    "\n",
    "percapitaactivethousand = driver.find_elements_by_xpath('//table/tbody/tr/td[8]')  \n",
    "\n",
    "\n",
    "my_result=[]\n",
    "#print(len(totalsoldiers))\n",
    "for i in range(len(totalsoldiers)):\n",
    "    Temporary_data = {'country':countries[i].text,\n",
    "    'active military':activemilitary[i].text,\n",
    "    'reserve military':reservemilitary[i].text,\n",
    "    'paramilitary':paramilitary[i].text,\n",
    "    'total soldiers': totalsoldiers[i].text,\n",
    "    'Per 1,000 capita(total)':percapitatotalthousand[i].text,\n",
    "    'Per 1,000 capita(active)':percapitaactivethousand[i].text\n",
    "    }\n",
    "    my_result.append(Temporary_data) "
   ]
  },
  {
   "cell_type": "code",
   "execution_count": 4,
   "id": "6b54ca54",
   "metadata": {},
   "outputs": [],
   "source": [
    "df_data =pd.DataFrame(my_result)"
   ]
  },
  {
   "cell_type": "code",
   "execution_count": 5,
   "id": "c4a3e36f",
   "metadata": {},
   "outputs": [],
   "source": [
    "df_data.to_excel('my_result.xlsx',index=False)"
   ]
  }
 ],
 "metadata": {
  "kernelspec": {
   "display_name": "Python 3 (ipykernel)",
   "language": "python",
   "name": "python3"
  },
  "language_info": {
   "codemirror_mode": {
    "name": "ipython",
    "version": 3
   },
   "file_extension": ".py",
   "mimetype": "text/x-python",
   "name": "python",
   "nbconvert_exporter": "python",
   "pygments_lexer": "ipython3",
   "version": "3.10.4"
  }
 },
 "nbformat": 4,
 "nbformat_minor": 5
}
